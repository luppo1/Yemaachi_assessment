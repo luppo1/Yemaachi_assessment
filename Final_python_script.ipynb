{
 "cells": [
  {
   "cell_type": "code",
   "execution_count": 4,
   "id": "2d92b7f3",
   "metadata": {},
   "outputs": [],
   "source": [
    "# Import all the needed libraries\n",
    "import numpy as np # linear algebra\n",
    "import pandas as pd # data processing, CSV file I/O (e.g. pd.read_csv)\n",
    "import os\n",
    "import matplotlib.pyplot as plt\n",
    "%matplotlib inline"
   ]
  },
  {
   "cell_type": "code",
   "execution_count": 5,
   "id": "2416007b",
   "metadata": {},
   "outputs": [
    {
     "data": {
      "text/plain": [
       "array([1, 2, 3, 4, 5], dtype=int64)"
      ]
     },
     "execution_count": 5,
     "metadata": {},
     "output_type": "execute_result"
    }
   ],
   "source": [
    "# Import the dataset (converted from fasta to CSV format)\n",
    "Seq = pd.read_csv('16s_sequences_final.csv')\n",
    "Seq['Class'].unique()"
   ]
  },
  {
   "cell_type": "code",
   "execution_count": 6,
   "id": "1a7093b4",
   "metadata": {},
   "outputs": [
    {
     "data": {
      "text/plain": [
       "array([0, 1, 2, 3, 4], dtype=int64)"
      ]
     },
     "execution_count": 6,
     "metadata": {},
     "output_type": "execute_result"
    }
   ],
   "source": [
    "# Import label encoder (This is for the various microorganisms)\n",
    "from sklearn import preprocessing\n",
    "# label_encoder object knows how to understand word labels.\n",
    "label_encoder = preprocessing.LabelEncoder()\n",
    "# Encode labels in column 'species'.\n",
    "Seq['Class']= label_encoder.fit_transform(Seq['Class'])\n",
    "Seq['Class'].unique()"
   ]
  },
  {
   "cell_type": "code",
   "execution_count": 7,
   "id": "eb34c202",
   "metadata": {},
   "outputs": [
    {
     "data": {
      "text/html": [
       "<div>\n",
       "<style scoped>\n",
       "    .dataframe tbody tr th:only-of-type {\n",
       "        vertical-align: middle;\n",
       "    }\n",
       "\n",
       "    .dataframe tbody tr th {\n",
       "        vertical-align: top;\n",
       "    }\n",
       "\n",
       "    .dataframe thead th {\n",
       "        text-align: right;\n",
       "    }\n",
       "</style>\n",
       "<table border=\"1\" class=\"dataframe\">\n",
       "  <thead>\n",
       "    <tr style=\"text-align: right;\">\n",
       "      <th></th>\n",
       "      <th>ID</th>\n",
       "      <th>sequence</th>\n",
       "      <th>Class</th>\n",
       "    </tr>\n",
       "  </thead>\n",
       "  <tbody>\n",
       "    <tr>\n",
       "      <th>0</th>\n",
       "      <td>FN599622.1</td>\n",
       "      <td>GAAGGGGGCTAGCGTTGTTCGGAATTACTGGGCGTAAAGCGCACGT...</td>\n",
       "      <td>0</td>\n",
       "    </tr>\n",
       "    <tr>\n",
       "      <th>1</th>\n",
       "      <td>FN599628.1</td>\n",
       "      <td>GAAGGGGGCTAGCGTTGTTCGGAATTACTGGGCGTAAAGCGCACGT...</td>\n",
       "      <td>0</td>\n",
       "    </tr>\n",
       "    <tr>\n",
       "      <th>2</th>\n",
       "      <td>FN599637.1</td>\n",
       "      <td>GAAGGGGGCTAGCGTTGTTCGGAATTACTGGGCGTAAAGCGCACGT...</td>\n",
       "      <td>0</td>\n",
       "    </tr>\n",
       "    <tr>\n",
       "      <th>3</th>\n",
       "      <td>FN599649.1</td>\n",
       "      <td>GAAGGGGGCTAGCGTTGTTCGGAATTACTGGGCGTAGAGCGCACGT...</td>\n",
       "      <td>0</td>\n",
       "    </tr>\n",
       "    <tr>\n",
       "      <th>4</th>\n",
       "      <td>FN599660.1</td>\n",
       "      <td>GAAGGGGGCTAGCGTTGTTCGGAATTACTGGGCGTAAAGCGCACGT...</td>\n",
       "      <td>0</td>\n",
       "    </tr>\n",
       "  </tbody>\n",
       "</table>\n",
       "</div>"
      ],
      "text/plain": [
       "           ID                                           sequence  Class\n",
       "0  FN599622.1  GAAGGGGGCTAGCGTTGTTCGGAATTACTGGGCGTAAAGCGCACGT...      0\n",
       "1  FN599628.1  GAAGGGGGCTAGCGTTGTTCGGAATTACTGGGCGTAAAGCGCACGT...      0\n",
       "2  FN599637.1  GAAGGGGGCTAGCGTTGTTCGGAATTACTGGGCGTAAAGCGCACGT...      0\n",
       "3  FN599649.1  GAAGGGGGCTAGCGTTGTTCGGAATTACTGGGCGTAGAGCGCACGT...      0\n",
       "4  FN599660.1  GAAGGGGGCTAGCGTTGTTCGGAATTACTGGGCGTAAAGCGCACGT...      0"
      ]
     },
     "execution_count": 7,
     "metadata": {},
     "output_type": "execute_result"
    }
   ],
   "source": [
    "# Inspect the first five lines\n",
    "Seq.head()"
   ]
  },
  {
   "cell_type": "code",
   "execution_count": 8,
   "id": "9e267f80",
   "metadata": {},
   "outputs": [
    {
     "data": {
      "text/plain": [
       "Text(0.5, 1.0, 'Class distribution of 16s_Sequences')"
      ]
     },
     "execution_count": 8,
     "metadata": {},
     "output_type": "execute_result"
    },
    {
     "data": {
      "image/png": "[encoded data removed]",
      "text/plain": [
       "<Figure size 432x288 with 1 Axes>"
      ]
     },
     "metadata": {
      "needs_background": "light"
     },
     "output_type": "display_data"
    }
   ],
   "source": [
    "# Visualize the distribution of the classes\n",
    "Seq['Class'].value_counts().sort_index().plot.bar()\n",
    "plt.title(\"Class distribution of 16s_Sequences\")"
   ]
  },
  {
   "cell_type": "code",
   "execution_count": 10,
   "id": "e0e3f19c",
   "metadata": {},
   "outputs": [],
   "source": [
    "# Convert a sequence of characters into k-mer words, default size = 6 (hexamers). \n",
    "# The function Kmers_funct() will collect all possible overlapping k-mers of a \n",
    "# specified length from any sequence string\n",
    "\n",
    "def Kmers_funct(seq, size=6):\n",
    "    return [seq[x:x+size].lower() for x in range(len(seq) - size + 1)]\n",
    "#convert our training data sequences into short overlapping k-mers of length 6. \n",
    "#Lets do that for each species of data we have using our Kmers_funct function.\n",
    "Seq['words'] = Seq.apply(lambda x: Kmers_funct(x['sequence']), axis=1)\n",
    "Seq_dna = Seq.drop('sequence', axis=1)"
   ]
  },
  {
   "cell_type": "code",
   "execution_count": 11,
   "id": "8d9d1e9f",
   "metadata": {},
   "outputs": [
    {
     "data": {
      "text/html": [
       "<div>\n",
       "<style scoped>\n",
       "    .dataframe tbody tr th:only-of-type {\n",
       "        vertical-align: middle;\n",
       "    }\n",
       "\n",
       "    .dataframe tbody tr th {\n",
       "        vertical-align: top;\n",
       "    }\n",
       "\n",
       "    .dataframe thead th {\n",
       "        text-align: right;\n",
       "    }\n",
       "</style>\n",
       "<table border=\"1\" class=\"dataframe\">\n",
       "  <thead>\n",
       "    <tr style=\"text-align: right;\">\n",
       "      <th></th>\n",
       "      <th>ID</th>\n",
       "      <th>Class</th>\n",
       "      <th>words</th>\n",
       "    </tr>\n",
       "  </thead>\n",
       "  <tbody>\n",
       "    <tr>\n",
       "      <th>0</th>\n",
       "      <td>FN599622.1</td>\n",
       "      <td>0</td>\n",
       "      <td>[gaaggg, aagggg, aggggg, gggggc, ggggct, gggct...</td>\n",
       "    </tr>\n",
       "    <tr>\n",
       "      <th>1</th>\n",
       "      <td>FN599628.1</td>\n",
       "      <td>0</td>\n",
       "      <td>[gaaggg, aagggg, aggggg, gggggc, ggggct, gggct...</td>\n",
       "    </tr>\n",
       "    <tr>\n",
       "      <th>2</th>\n",
       "      <td>FN599637.1</td>\n",
       "      <td>0</td>\n",
       "      <td>[gaaggg, aagggg, aggggg, gggggc, ggggct, gggct...</td>\n",
       "    </tr>\n",
       "    <tr>\n",
       "      <th>3</th>\n",
       "      <td>FN599649.1</td>\n",
       "      <td>0</td>\n",
       "      <td>[gaaggg, aagggg, aggggg, gggggc, ggggct, gggct...</td>\n",
       "    </tr>\n",
       "    <tr>\n",
       "      <th>4</th>\n",
       "      <td>FN599660.1</td>\n",
       "      <td>0</td>\n",
       "      <td>[gaaggg, aagggg, aggggg, gggggc, ggggct, gggct...</td>\n",
       "    </tr>\n",
       "  </tbody>\n",
       "</table>\n",
       "</div>"
      ],
      "text/plain": [
       "           ID  Class                                              words\n",
       "0  FN599622.1      0  [gaaggg, aagggg, aggggg, gggggc, ggggct, gggct...\n",
       "1  FN599628.1      0  [gaaggg, aagggg, aggggg, gggggc, ggggct, gggct...\n",
       "2  FN599637.1      0  [gaaggg, aagggg, aggggg, gggggc, ggggct, gggct...\n",
       "3  FN599649.1      0  [gaaggg, aagggg, aggggg, gggggc, ggggct, gggct...\n",
       "4  FN599660.1      0  [gaaggg, aagggg, aggggg, gggggc, ggggct, gggct..."
      ]
     },
     "execution_count": 11,
     "metadata": {},
     "output_type": "execute_result"
    }
   ],
   "source": [
    "# Display the first five entries\n",
    "Seq_dna.head()"
   ]
  },
  {
   "cell_type": "code",
   "execution_count": 12,
   "id": "508e655c",
   "metadata": {},
   "outputs": [],
   "source": [
    "# We now need to convert the lists of k-mers for each gene into string sentences of words \n",
    "# that can be used to create the Bag of Words model.\n",
    "\n",
    "Seq_texts = list(Seq_dna['words'])\n",
    "for item in range(len(Seq_texts)):\n",
    "    Seq_texts[item] = ' '.join(Seq_texts[item])\n",
    "#separate labels\n",
    "y_Seq = Seq_dna.iloc[:, 1].values # y_Seq"
   ]
  },
  {
   "cell_type": "code",
   "execution_count": 13,
   "id": "202a001f",
   "metadata": {},
   "outputs": [
    {
     "data": {
      "text/plain": [
       "array([0, 0, 0, 0, 0, 0, 0, 0, 0, 1, 1, 1, 1, 2, 2, 2, 2, 3, 3, 3, 3, 4,\n",
       "       4, 4, 4, 4, 4, 4, 4, 4, 4], dtype=int64)"
      ]
     },
     "execution_count": 13,
     "metadata": {},
     "output_type": "execute_result"
    }
   ],
   "source": [
    "# Display the labels\n",
    "y_Seq"
   ]
  },
  {
   "cell_type": "code",
   "execution_count": 14,
   "id": "3249b990",
   "metadata": {},
   "outputs": [],
   "source": [
    "# Convert our k-mer words into uniform length numerical vectors that \n",
    "# represent counts for every k-mer in the vocabulary:\n",
    "\n",
    "from sklearn.feature_extraction.text import CountVectorizer\n",
    "cv = CountVectorizer(ngram_range=(4,4)) #The n-gram size of 4 is previously determined by testing\n",
    "X = cv.fit_transform(Seq_texts)"
   ]
  },
  {
   "cell_type": "code",
   "execution_count": 15,
   "id": "071660f6",
   "metadata": {},
   "outputs": [
    {
     "name": "stdout",
     "output_type": "stream",
     "text": [
      "(31, 3468)\n"
     ]
    }
   ],
   "source": [
    "# Inspect the shape of the data\n",
    "print(X.shape)\n",
    "# There are 31 genes converted into uniform length \n",
    "# feature vectors of 4-gram k-mer (length 6) counts."
   ]
  },
  {
   "cell_type": "code",
   "execution_count": 16,
   "id": "854a0793",
   "metadata": {},
   "outputs": [],
   "source": [
    "# There are 31 genes converted into uniform length\n",
    "# feature vectors of 4-gram k-mer (length 6) counts.\n",
    "\n",
    "# 80% and 20% of the data was used to train and test the classifiers, respectively\n",
    "# test the model.\n",
    "# Next, train/test split dataset and build simple multinomial naive Bayes classifier.\n",
    "# Splitting the human dataset into the training set and test set\n",
    "\n",
    "from sklearn.model_selection import train_test_split\n",
    "X_train, X_test, y_train, y_test = train_test_split(X, \n",
    "                                                    y_Seq, \n",
    "                                                    test_size = 0.20, \n",
    "                                                    random_state=42)"
   ]
  },
  {
   "cell_type": "code",
   "execution_count": 21,
   "id": "40edebb5",
   "metadata": {},
   "outputs": [
    {
     "data": {
      "text/plain": [
       "MultinomialNB(alpha=0.1)"
      ]
     },
     "execution_count": 21,
     "metadata": {},
     "output_type": "execute_result"
    }
   ],
   "source": [
    "# Multinomial Naive Bayes Classifier\n",
    "\n",
    "from sklearn.naive_bayes import MultinomialNB\n",
    "multi_class = MultinomialNB(alpha=0.1)\n",
    "multi_class.fit(X_train, y_train)"
   ]
  },
  {
   "cell_type": "code",
   "execution_count": 22,
   "id": "90c9cda5",
   "metadata": {},
   "outputs": [],
   "source": [
    "# Now let’s make predictions for the Multinomial Naive Bayes Classifier\n",
    "multi_pred = multi_class.predict(X_test)"
   ]
  },
  {
   "cell_type": "code",
   "execution_count": 23,
   "id": "b0d4c1d2",
   "metadata": {},
   "outputs": [
    {
     "name": "stdout",
     "output_type": "stream",
     "text": [
      "Confusion matrix for predictions on human test DNA sequence\n",
      "\n",
      "Predicted  0  1  2  3  4\n",
      "Actual                  \n",
      "0          1  0  0  0  0\n",
      "1          0  1  0  0  0\n",
      "2          0  0  1  0  0\n",
      "3          0  0  0  1  0\n",
      "4          0  0  1  1  1\n",
      "accuracy = 0.714 \n",
      "precision = 0.857 \n",
      "recall = 0.714 \n",
      "f1 = 0.690\n"
     ]
    }
   ],
   "source": [
    "# Performance metrics measurement: Multinomial Naive Bayes Classifier\n",
    "from sklearn.metrics import accuracy_score, f1_score, precision_score, recall_score\n",
    "print(\"Confusion matrix for predictions on human test DNA sequence\\n\")\n",
    "print(pd.crosstab(pd.Series(y_test, name='Actual'), pd.Series(multi_pred, name='Predicted')))\n",
    "def get_metrics(y_test, y_predicted):\n",
    "    accuracy = accuracy_score(y_test, y_predicted)\n",
    "    precision = precision_score(y_test, y_predicted, average='weighted')\n",
    "    recall = recall_score(y_test, y_predicted, average='weighted')\n",
    "    f1 = f1_score(y_test, y_predicted, average='weighted')\n",
    "    return accuracy, precision, recall, f1\n",
    "accuracy, precision, recall, f1 = get_metrics(y_test, multi_pred)\n",
    "print(\"accuracy = %.3f \\nprecision = %.3f \\nrecall = %.3f \\nf1 = %.3f\" % (accuracy, precision, recall, f1))"
   ]
  },
  {
   "cell_type": "code",
   "execution_count": 24,
   "id": "27d5e734",
   "metadata": {
    "collapsed": true
   },
   "outputs": [
    {
     "name": "stderr",
     "output_type": "stream",
     "text": [
      "C:\\Users\\Albert Doughan\\AppData\\Local\\Programs\\Python\\Python39\\lib\\site-packages\\sklearn\\utils\\validation.py:585: FutureWarning: np.matrix usage is deprecated in 1.0 and will raise a TypeError in 1.2. Please convert to a numpy array with np.asarray. For more information see: https://numpy.org/doc/stable/reference/generated/numpy.matrix.html\n",
      "  warnings.warn(\n"
     ]
    },
    {
     "data": {
      "text/plain": [
       "GaussianNB()"
      ]
     },
     "execution_count": 24,
     "metadata": {},
     "output_type": "execute_result"
    }
   ],
   "source": [
    "# Gaussian Naive Bayes Classifier\n",
    "from sklearn.naive_bayes import GaussianNB\n",
    "GNB = GaussianNB()\n",
    "GNB.fit(X_train.todense(), y_train)"
   ]
  },
  {
   "cell_type": "code",
   "execution_count": 25,
   "id": "ed6f47e4",
   "metadata": {},
   "outputs": [],
   "source": [
    "# Now let’s make predictions for the Gaussian Naive Bayes Classifier\n",
    "y_predGNB = GNB.predict(X_test.toarray())"
   ]
  },
  {
   "cell_type": "code",
   "execution_count": 26,
   "id": "037f2314",
   "metadata": {},
   "outputs": [
    {
     "name": "stdout",
     "output_type": "stream",
     "text": [
      "Confusion matrix for predictions on human test DNA sequence\n",
      "\n",
      "Predicted  0  1  3  4\n",
      "Actual               \n",
      "0          1  0  0  0\n",
      "1          0  1  0  0\n",
      "2          1  0  0  0\n",
      "3          0  0  1  0\n",
      "4          0  0  0  3\n",
      "accuracy = 0.857 \n",
      "precision = 0.786 \n",
      "recall = 0.857 \n",
      "f1 = 0.810\n"
     ]
    },
    {
     "name": "stderr",
     "output_type": "stream",
     "text": [
      "C:\\Users\\Albert Doughan\\AppData\\Local\\Programs\\Python\\Python39\\lib\\site-packages\\sklearn\\metrics\\_classification.py:1308: UndefinedMetricWarning: Precision is ill-defined and being set to 0.0 in labels with no predicted samples. Use `zero_division` parameter to control this behavior.\n",
      "  _warn_prf(average, modifier, msg_start, len(result))\n"
     ]
    }
   ],
   "source": [
    "# Performance metrics measurement: Gaussian Naive Bayes Classifier\n",
    "from sklearn.metrics import accuracy_score, f1_score, precision_score, recall_score\n",
    "print(\"Confusion matrix for predictions on human test DNA sequence\\n\")\n",
    "print(pd.crosstab(pd.Series(y_test, name='Actual'), pd.Series(y_predGNB, name='Predicted')))\n",
    "def get_metrics(y_test, y_predicted):\n",
    "    accuracy = accuracy_score(y_test, y_predicted)\n",
    "    precision = precision_score(y_test, y_predicted, average='weighted')\n",
    "    recall = recall_score(y_test, y_predicted, average='weighted')\n",
    "    f1 = f1_score(y_test, y_predicted, average='weighted')\n",
    "    return accuracy, precision, recall, f1\n",
    "accuracy, precision, recall, f1 = get_metrics(y_test, y_predGNB)\n",
    "print(\"accuracy = %.3f \\nprecision = %.3f \\nrecall = %.3f \\nf1 = %.3f\" % (accuracy, precision, recall, f1))"
   ]
  },
  {
   "cell_type": "code",
   "execution_count": 27,
   "id": "3e60b834",
   "metadata": {},
   "outputs": [
    {
     "data": {
      "text/plain": [
       "BernoulliNB()"
      ]
     },
     "execution_count": 27,
     "metadata": {},
     "output_type": "execute_result"
    }
   ],
   "source": [
    "# Binomial Naive Bayes Classifier\n",
    "from sklearn.naive_bayes import BernoulliNB\n",
    "BNB = BernoulliNB()\n",
    "BNB.fit(X_train, y_train)"
   ]
  },
  {
   "cell_type": "code",
   "execution_count": 28,
   "id": "b9ebb500",
   "metadata": {},
   "outputs": [],
   "source": [
    "# Now let’s make predictions for the Binomial Naive Bayes Classifier\n",
    "y_predBNB = GNB.predict(X_test.toarray())"
   ]
  },
  {
   "cell_type": "code",
   "execution_count": 29,
   "id": "dfe09a56",
   "metadata": {},
   "outputs": [
    {
     "name": "stdout",
     "output_type": "stream",
     "text": [
      "Confusion matrix for predictions on human test DNA sequence\n",
      "\n",
      "Predicted  0  1  3  4\n",
      "Actual               \n",
      "0          1  0  0  0\n",
      "1          0  1  0  0\n",
      "2          1  0  0  0\n",
      "3          0  0  1  0\n",
      "4          0  0  0  3\n",
      "accuracy = 0.857 \n",
      "precision = 0.786 \n",
      "recall = 0.857 \n",
      "f1 = 0.810\n"
     ]
    },
    {
     "name": "stderr",
     "output_type": "stream",
     "text": [
      "C:\\Users\\Albert Doughan\\AppData\\Local\\Programs\\Python\\Python39\\lib\\site-packages\\sklearn\\metrics\\_classification.py:1308: UndefinedMetricWarning: Precision is ill-defined and being set to 0.0 in labels with no predicted samples. Use `zero_division` parameter to control this behavior.\n",
      "  _warn_prf(average, modifier, msg_start, len(result))\n"
     ]
    }
   ],
   "source": [
    "# Performance metrics measurement: Binomial Naive Bayes Classifier\n",
    "\n",
    "from sklearn.metrics import accuracy_score, f1_score, precision_score, recall_score\n",
    "print(\"Confusion matrix for predictions on human test DNA sequence\\n\")\n",
    "print(pd.crosstab(pd.Series(y_test, name='Actual'), pd.Series(y_predBNB, name='Predicted')))\n",
    "def get_metrics(y_test, y_predicted):\n",
    "    accuracy = accuracy_score(y_test, y_predicted)\n",
    "    precision = precision_score(y_test, y_predicted, average='weighted')\n",
    "    recall = recall_score(y_test, y_predicted, average='weighted')\n",
    "    f1 = f1_score(y_test, y_predicted, average='weighted')\n",
    "    return accuracy, precision, recall, f1\n",
    "accuracy, precision, recall, f1 = get_metrics(y_test, y_predBNB)\n",
    "print(\"accuracy = %.3f \\nprecision = %.3f \\nrecall = %.3f \\nf1 = %.3f\" % (accuracy, precision, recall, f1))"
   ]
  },
  {
   "cell_type": "code",
   "execution_count": 35,
   "id": "528a65bc",
   "metadata": {},
   "outputs": [
    {
     "data": {
      "text/plain": [
       "LogisticRegression()"
      ]
     },
     "execution_count": 35,
     "metadata": {},
     "output_type": "execute_result"
    }
   ],
   "source": [
    "# Logistic regression Classifier\n",
    "from sklearn.linear_model import LogisticRegression\n",
    "logit_class = LogisticRegression()\n",
    "logit_class.fit((X_train), y_train)"
   ]
  },
  {
   "cell_type": "code",
   "execution_count": 36,
   "id": "b2c16843",
   "metadata": {},
   "outputs": [],
   "source": [
    "# Now let’s make predictions for the Logistic regression Classifier\n",
    "logit_class = logit_class.predict(X_test.toarray())"
   ]
  },
  {
   "cell_type": "code",
   "execution_count": 37,
   "id": "23a6d036",
   "metadata": {},
   "outputs": [
    {
     "name": "stdout",
     "output_type": "stream",
     "text": [
      "Confusion matrix for predictions Logistic regression Classifier\n",
      "\n",
      "Predicted  0  1  2  3  4\n",
      "Actual                  \n",
      "0          1  0  0  0  0\n",
      "1          0  1  0  0  0\n",
      "2          0  0  1  0  0\n",
      "3          0  0  0  1  0\n",
      "4          0  0  0  0  3\n",
      "accuracy = 1.000 \n",
      "precision = 1.000 \n",
      "recall = 1.000 \n",
      "f1 = 1.000\n"
     ]
    }
   ],
   "source": [
    "# Performance metrics measurement: Logistic regression Classifier\n",
    "\n",
    "from sklearn.metrics import accuracy_score, f1_score, precision_score, recall_score\n",
    "print(\"Confusion matrix for predictions Logistic regression Classifier\\n\")\n",
    "print(pd.crosstab(pd.Series(y_test, name='Actual'), pd.Series(logit_class, name='Predicted')))\n",
    "def get_metrics(y_test, y_predicted):\n",
    "    accuracy = accuracy_score(y_test, y_predicted)\n",
    "    precision = precision_score(y_test, y_predicted, average='weighted')\n",
    "    recall = recall_score(y_test, y_predicted, average='weighted')\n",
    "    f1 = f1_score(y_test, y_predicted, average='weighted')\n",
    "    return accuracy, precision, recall, f1\n",
    "accuracy, precision, recall, f1 = get_metrics(y_test, logit_class)\n",
    "print(\"accuracy = %.3f \\nprecision = %.3f \\nrecall = %.3f \\nf1 = %.3f\" % (accuracy, precision, recall, f1))"
   ]
  },
  {
   "cell_type": "code",
   "execution_count": null,
   "id": "1b4f0a69",
   "metadata": {},
   "outputs": [],
   "source": []
  }
 ],
 "metadata": {
  "kernelspec": {
   "display_name": "Python 3 (ipykernel)",
   "language": "python",
   "name": "python3"
  },
  "language_info": {
   "codemirror_mode": {
    "name": "ipython",
    "version": 3
   },
   "file_extension": ".py",
   "mimetype": "text/x-python",
   "name": "python",
   "nbconvert_exporter": "python",
   "pygments_lexer": "ipython3",
   "version": "3.9.7"
  }
 },
 "nbformat": 4,
 "nbformat_minor": 5
}
